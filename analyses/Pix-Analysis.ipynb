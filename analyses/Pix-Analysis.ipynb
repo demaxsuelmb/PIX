{
 "cells": [
  {
   "cell_type": "markdown",
   "id": "4c737673",
   "metadata": {},
   "source": [
    "# Analysis of the PIX in Brazil"
   ]
  },
  {
   "cell_type": "markdown",
   "id": "49daf6d5",
   "metadata": {},
   "source": [
    "### Libraries"
   ]
  },
  {
   "cell_type": "code",
   "execution_count": 6,
   "id": "6910ce49",
   "metadata": {},
   "outputs": [],
   "source": [
    "import pandas as pd\n",
    "import numpy as np\n",
    "import requests\n",
    "import json\n",
    "import matplotlib.pyplot as plt"
   ]
  },
  {
   "cell_type": "markdown",
   "id": "386b6fc0",
   "metadata": {},
   "source": [
    "### connecting with API"
   ]
  },
  {
   "cell_type": "code",
   "execution_count": 7,
   "id": "e61b760a",
   "metadata": {},
   "outputs": [],
   "source": [
    "response_API = requests.get('https://olinda.bcb.gov.br/olinda/servico/SPI/versao/v1/odata/PixLiquidadosAtual?%24format=json')\n",
    "\n",
    "#print(response_API.status_code)\n",
    "data = response_API.text\n",
    "parse_json = json.loads(data)\n",
    "\n",
    "parse_json = parse_json['value']\n",
    "\n",
    "df = pd.DataFrame(parse_json)"
   ]
  },
  {
   "cell_type": "markdown",
   "id": "e0381cd1",
   "metadata": {},
   "source": [
    "# Cleaning and processing"
   ]
  },
  {
   "cell_type": "markdown",
   "id": "57c2ec75",
   "metadata": {},
   "source": [
    "### Initial Data Exploration:"
   ]
  },
  {
   "cell_type": "code",
   "execution_count": 10,
   "id": "4f82253c",
   "metadata": {},
   "outputs": [
    {
     "data": {
      "text/html": [
       "<div>\n",
       "<style scoped>\n",
       "    .dataframe tbody tr th:only-of-type {\n",
       "        vertical-align: middle;\n",
       "    }\n",
       "\n",
       "    .dataframe tbody tr th {\n",
       "        vertical-align: top;\n",
       "    }\n",
       "\n",
       "    .dataframe thead th {\n",
       "        text-align: right;\n",
       "    }\n",
       "</style>\n",
       "<table border=\"1\" class=\"dataframe\">\n",
       "  <thead>\n",
       "    <tr style=\"text-align: right;\">\n",
       "      <th></th>\n",
       "      <th>Data</th>\n",
       "      <th>Quantidade</th>\n",
       "      <th>Total</th>\n",
       "      <th>Media</th>\n",
       "    </tr>\n",
       "  </thead>\n",
       "  <tbody>\n",
       "    <tr>\n",
       "      <th>0</th>\n",
       "      <td>2021-06-04</td>\n",
       "      <td>24945880</td>\n",
       "      <td>17229599.27</td>\n",
       "      <td>690.68</td>\n",
       "    </tr>\n",
       "    <tr>\n",
       "      <th>1</th>\n",
       "      <td>2021-09-28</td>\n",
       "      <td>28840568</td>\n",
       "      <td>17964083.35</td>\n",
       "      <td>622.88</td>\n",
       "    </tr>\n",
       "    <tr>\n",
       "      <th>2</th>\n",
       "      <td>2022-10-28</td>\n",
       "      <td>75938264</td>\n",
       "      <td>40180577.53</td>\n",
       "      <td>529.12</td>\n",
       "    </tr>\n",
       "    <tr>\n",
       "      <th>3</th>\n",
       "      <td>2022-12-01</td>\n",
       "      <td>93207145</td>\n",
       "      <td>47313669.38</td>\n",
       "      <td>507.62</td>\n",
       "    </tr>\n",
       "    <tr>\n",
       "      <th>4</th>\n",
       "      <td>2022-04-06</td>\n",
       "      <td>59981242</td>\n",
       "      <td>32855707.99</td>\n",
       "      <td>547.77</td>\n",
       "    </tr>\n",
       "  </tbody>\n",
       "</table>\n",
       "</div>"
      ],
      "text/plain": [
       "         Data  Quantidade        Total   Media\n",
       "0  2021-06-04    24945880  17229599.27  690.68\n",
       "1  2021-09-28    28840568  17964083.35  622.88\n",
       "2  2022-10-28    75938264  40180577.53  529.12\n",
       "3  2022-12-01    93207145  47313669.38  507.62\n",
       "4  2022-04-06    59981242  32855707.99  547.77"
      ]
     },
     "execution_count": 10,
     "metadata": {},
     "output_type": "execute_result"
    }
   ],
   "source": [
    "# head\n",
    "df.head()"
   ]
  },
  {
   "cell_type": "code",
   "execution_count": 11,
   "id": "14d6b7ec",
   "metadata": {},
   "outputs": [
    {
     "data": {
      "text/html": [
       "<div>\n",
       "<style scoped>\n",
       "    .dataframe tbody tr th:only-of-type {\n",
       "        vertical-align: middle;\n",
       "    }\n",
       "\n",
       "    .dataframe tbody tr th {\n",
       "        vertical-align: top;\n",
       "    }\n",
       "\n",
       "    .dataframe thead th {\n",
       "        text-align: right;\n",
       "    }\n",
       "</style>\n",
       "<table border=\"1\" class=\"dataframe\">\n",
       "  <thead>\n",
       "    <tr style=\"text-align: right;\">\n",
       "      <th></th>\n",
       "      <th>Quantidade</th>\n",
       "      <th>Total</th>\n",
       "      <th>Media</th>\n",
       "    </tr>\n",
       "  </thead>\n",
       "  <tbody>\n",
       "    <tr>\n",
       "      <th>count</th>\n",
       "      <td>1.083000e+03</td>\n",
       "      <td>1.083000e+03</td>\n",
       "      <td>1083.000000</td>\n",
       "    </tr>\n",
       "    <tr>\n",
       "      <th>mean</th>\n",
       "      <td>5.141446e+07</td>\n",
       "      <td>2.322226e+07</td>\n",
       "      <td>481.626048</td>\n",
       "    </tr>\n",
       "    <tr>\n",
       "      <th>std</th>\n",
       "      <td>3.400325e+07</td>\n",
       "      <td>1.761349e+07</td>\n",
       "      <td>232.881652</td>\n",
       "    </tr>\n",
       "    <tr>\n",
       "      <th>min</th>\n",
       "      <td>2.345000e+03</td>\n",
       "      <td>2.102400e+02</td>\n",
       "      <td>89.650000</td>\n",
       "    </tr>\n",
       "    <tr>\n",
       "      <th>25%</th>\n",
       "      <td>2.361185e+07</td>\n",
       "      <td>7.423213e+06</td>\n",
       "      <td>234.185000</td>\n",
       "    </tr>\n",
       "    <tr>\n",
       "      <th>50%</th>\n",
       "      <td>4.736079e+07</td>\n",
       "      <td>1.913966e+07</td>\n",
       "      <td>515.010000</td>\n",
       "    </tr>\n",
       "    <tr>\n",
       "      <th>75%</th>\n",
       "      <td>7.639719e+07</td>\n",
       "      <td>3.680065e+07</td>\n",
       "      <td>616.330000</td>\n",
       "    </tr>\n",
       "    <tr>\n",
       "      <th>max</th>\n",
       "      <td>1.630081e+08</td>\n",
       "      <td>7.730169e+07</td>\n",
       "      <td>1309.440000</td>\n",
       "    </tr>\n",
       "  </tbody>\n",
       "</table>\n",
       "</div>"
      ],
      "text/plain": [
       "         Quantidade         Total        Media\n",
       "count  1.083000e+03  1.083000e+03  1083.000000\n",
       "mean   5.141446e+07  2.322226e+07   481.626048\n",
       "std    3.400325e+07  1.761349e+07   232.881652\n",
       "min    2.345000e+03  2.102400e+02    89.650000\n",
       "25%    2.361185e+07  7.423213e+06   234.185000\n",
       "50%    4.736079e+07  1.913966e+07   515.010000\n",
       "75%    7.639719e+07  3.680065e+07   616.330000\n",
       "max    1.630081e+08  7.730169e+07  1309.440000"
      ]
     },
     "execution_count": 11,
     "metadata": {},
     "output_type": "execute_result"
    }
   ],
   "source": [
    "# descriptive statistics of the data\n",
    "df.describe()"
   ]
  },
  {
   "cell_type": "code",
   "execution_count": 12,
   "id": "be7cc09d",
   "metadata": {},
   "outputs": [
    {
     "name": "stdout",
     "output_type": "stream",
     "text": [
      "<class 'pandas.core.frame.DataFrame'>\n",
      "RangeIndex: 1083 entries, 0 to 1082\n",
      "Data columns (total 4 columns):\n",
      " #   Column      Non-Null Count  Dtype  \n",
      "---  ------      --------------  -----  \n",
      " 0   Data        1083 non-null   object \n",
      " 1   Quantidade  1083 non-null   int64  \n",
      " 2   Total       1083 non-null   float64\n",
      " 3   Media       1083 non-null   float64\n",
      "dtypes: float64(2), int64(1), object(1)\n",
      "memory usage: 34.0+ KB\n"
     ]
    }
   ],
   "source": [
    "# infors about dataset\n",
    "df.info()"
   ]
  },
  {
   "cell_type": "code",
   "execution_count": 13,
   "id": "efa6994c",
   "metadata": {},
   "outputs": [
    {
     "name": "stdout",
     "output_type": "stream",
     "text": [
      "The min value of column Data is 2020-11-03 and max is 2023-10-21\n"
     ]
    }
   ],
   "source": [
    "# min and max values\n",
    "col1 = 'Data'\n",
    "col1min = df['Data'].min()\n",
    "col1max = df['Data'].max()\n",
    "print('The min value of column', col1,'is', col1min, 'and max is', col1max)"
   ]
  },
  {
   "cell_type": "markdown",
   "id": "4c5d3bce",
   "metadata": {},
   "source": [
    "### Handle Missing Data:"
   ]
  },
  {
   "cell_type": "code",
   "execution_count": 15,
   "id": "a9c518f5",
   "metadata": {},
   "outputs": [
    {
     "data": {
      "text/plain": [
       "Data          0\n",
       "Quantidade    0\n",
       "Total         0\n",
       "Media         0\n",
       "dtype: int64"
      ]
     },
     "execution_count": 15,
     "metadata": {},
     "output_type": "execute_result"
    }
   ],
   "source": [
    "# check missing values\n",
    "df.isnull().sum()"
   ]
  },
  {
   "cell_type": "markdown",
   "id": "42b58ddd",
   "metadata": {},
   "source": [
    "### Data Type and Conversion"
   ]
  },
  {
   "cell_type": "code",
   "execution_count": 17,
   "id": "5d197fe5",
   "metadata": {},
   "outputs": [
    {
     "data": {
      "text/plain": [
       "Data           object\n",
       "Quantidade      int64\n",
       "Total         float64\n",
       "Media         float64\n",
       "dtype: object"
      ]
     },
     "execution_count": 17,
     "metadata": {},
     "output_type": "execute_result"
    }
   ],
   "source": [
    "# identify types\n",
    "df.dtypes"
   ]
  },
  {
   "cell_type": "code",
   "execution_count": 18,
   "id": "05231934",
   "metadata": {},
   "outputs": [
    {
     "data": {
      "text/html": [
       "<div>\n",
       "<style scoped>\n",
       "    .dataframe tbody tr th:only-of-type {\n",
       "        vertical-align: middle;\n",
       "    }\n",
       "\n",
       "    .dataframe tbody tr th {\n",
       "        vertical-align: top;\n",
       "    }\n",
       "\n",
       "    .dataframe thead th {\n",
       "        text-align: right;\n",
       "    }\n",
       "</style>\n",
       "<table border=\"1\" class=\"dataframe\">\n",
       "  <thead>\n",
       "    <tr style=\"text-align: right;\">\n",
       "      <th></th>\n",
       "      <th>Data</th>\n",
       "      <th>Quantidade</th>\n",
       "      <th>Total</th>\n",
       "      <th>Media</th>\n",
       "    </tr>\n",
       "  </thead>\n",
       "  <tbody>\n",
       "    <tr>\n",
       "      <th>0</th>\n",
       "      <td>2021-06-04</td>\n",
       "      <td>24945880</td>\n",
       "      <td>17229599.27</td>\n",
       "      <td>690.68</td>\n",
       "    </tr>\n",
       "    <tr>\n",
       "      <th>1</th>\n",
       "      <td>2021-09-28</td>\n",
       "      <td>28840568</td>\n",
       "      <td>17964083.35</td>\n",
       "      <td>622.88</td>\n",
       "    </tr>\n",
       "    <tr>\n",
       "      <th>2</th>\n",
       "      <td>2022-10-28</td>\n",
       "      <td>75938264</td>\n",
       "      <td>40180577.53</td>\n",
       "      <td>529.12</td>\n",
       "    </tr>\n",
       "  </tbody>\n",
       "</table>\n",
       "</div>"
      ],
      "text/plain": [
       "         Data  Quantidade        Total   Media\n",
       "0  2021-06-04    24945880  17229599.27  690.68\n",
       "1  2021-09-28    28840568  17964083.35  622.88\n",
       "2  2022-10-28    75938264  40180577.53  529.12"
      ]
     },
     "execution_count": 18,
     "metadata": {},
     "output_type": "execute_result"
    }
   ],
   "source": [
    "# change type\n",
    "pd.to_numeric(df['Media'])\n",
    "pd.to_numeric(df[ 'Total'])\n",
    "\n",
    "df.head(3)"
   ]
  },
  {
   "cell_type": "markdown",
   "id": "2b1b2332",
   "metadata": {},
   "source": [
    "### Quality of data"
   ]
  },
  {
   "cell_type": "code",
   "execution_count": 21,
   "id": "937e7bc6",
   "metadata": {},
   "outputs": [
    {
     "name": "stdout",
     "output_type": "stream",
     "text": [
      "The quantity of the column Data is 1083 and the unique quantity is 1083\n",
      "The quantity of the column Quantidade is 1083 and the unique quantity is 1083\n",
      "The quantity of the column Total is 1083 and the unique quantity is 1083\n",
      "The quantity of the column Media is 1083 and the unique quantity is 1071\n"
     ]
    }
   ],
   "source": [
    "# duplicates values\n",
    "def analyze_column(df, column_name):\n",
    "    col = df[column_name]\n",
    "    total_count = col.count()\n",
    "    unique_count = col.nunique()\n",
    "    return total_count, unique_count\n",
    "\n",
    "\n",
    "columns_to_analyze = ['Data', 'Quantidade','Total', 'Media']\n",
    "\n",
    "for column_name in columns_to_analyze:\n",
    "    total_count, unique_count = analyze_column(df, column_name)\n",
    "    print(f\"The quantity of the column {column_name} is {total_count} and the unique quantity is {unique_count}\")"
   ]
  },
  {
   "cell_type": "markdown",
   "id": "1fd28444",
   "metadata": {},
   "source": [
    "### Plot Data"
   ]
  },
  {
   "cell_type": "code",
   "execution_count": 22,
   "id": "b0661ffe",
   "metadata": {},
   "outputs": [
    {
     "data": {
      "image/png": "[encoded data removed]",
      "text/plain": [
       "<Figure size 640x480 with 1 Axes>"
      ]
     },
     "metadata": {},
     "output_type": "display_data"
    }
   ],
   "source": [
    "# plot the data\n",
    "\n",
    "\n",
    "# Histogram\n",
    "col_hist_1 = 'Quantidade'\n",
    "plt.hist(df[col_hist_1])\n",
    "plt.xlabel(col_hist_1)\n",
    "plt.ylabel('Frequency')\n",
    "title = 'Histogram of ' + col_hist_1\n",
    "plt.title(title)\n",
    "plt.show()"
   ]
  },
  {
   "cell_type": "code",
   "execution_count": 23,
   "id": "0dfd4de4",
   "metadata": {},
   "outputs": [
    {
     "data": {
      "image/png": "[encoded data removed]",
      "text/plain": [
       "<Figure size 640x480 with 1 Axes>"
      ]
     },
     "metadata": {},
     "output_type": "display_data"
    }
   ],
   "source": [
    "# Histogram\n",
    "col_hist_2 = 'Media'\n",
    "plt.hist(df[col_hist_2])\n",
    "plt.xlabel(col_hist_2)\n",
    "plt.ylabel('Frequency')\n",
    "title = 'Histogram of ' + col_hist_2\n",
    "plt.title(title)\n",
    "plt.show()"
   ]
  },
  {
   "cell_type": "code",
   "execution_count": null,
   "id": "77fe2601",
   "metadata": {},
   "outputs": [],
   "source": [
    "# Perform statistical tests\n"
   ]
  }
 ],
 "metadata": {
  "kernelspec": {
   "display_name": "Python 3 (ipykernel)",
   "language": "python",
   "name": "python3"
  },
  "language_info": {
   "codemirror_mode": {
    "name": "ipython",
    "version": 3
   },
   "file_extension": ".py",
   "mimetype": "text/x-python",
   "name": "python",
   "nbconvert_exporter": "python",
   "pygments_lexer": "ipython3",
   "version": "3.11.5"
  }
 },
 "nbformat": 4,
 "nbformat_minor": 5
}
