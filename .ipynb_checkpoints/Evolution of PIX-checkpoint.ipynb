{
 "cells": [
  {
   "cell_type": "markdown",
   "id": "478e595d",
   "metadata": {},
   "source": [
    "# Analysis of the PIX in Brazil"
   ]
  },
  {
   "cell_type": "markdown",
   "id": "4a797d56",
   "metadata": {},
   "source": [
    "### Libraries"
   ]
  },
  {
   "cell_type": "code",
   "execution_count": 2,
   "id": "49ce6ea5",
   "metadata": {},
   "outputs": [
    {
     "ename": "ModuleNotFoundError",
     "evalue": "No module named 'requests'",
     "output_type": "error",
     "traceback": [
      "\u001b[1;31m---------------------------------------------------------------------------\u001b[0m",
      "\u001b[1;31mModuleNotFoundError\u001b[0m                       Traceback (most recent call last)",
      "\u001b[1;32mc:\\Users\\demax.000\\Documents\\GitHub\\PIX\\.ipynb_checkpoints\\Evolution of PIX-checkpoint.ipynb Cell 3\u001b[0m line \u001b[0;36m3\n\u001b[0;32m      <a href='vscode-notebook-cell:/c%3A/Users/demax.000/Documents/GitHub/PIX/.ipynb_checkpoints/Evolution%20of%20PIX-checkpoint.ipynb#X11sZmlsZQ%3D%3D?line=0'>1</a>\u001b[0m \u001b[39mimport\u001b[39;00m \u001b[39mpandas\u001b[39;00m \u001b[39mas\u001b[39;00m \u001b[39mpd\u001b[39;00m\n\u001b[0;32m      <a href='vscode-notebook-cell:/c%3A/Users/demax.000/Documents/GitHub/PIX/.ipynb_checkpoints/Evolution%20of%20PIX-checkpoint.ipynb#X11sZmlsZQ%3D%3D?line=1'>2</a>\u001b[0m \u001b[39mimport\u001b[39;00m \u001b[39mnumpy\u001b[39;00m \u001b[39mas\u001b[39;00m \u001b[39mnp\u001b[39;00m\n\u001b[1;32m----> <a href='vscode-notebook-cell:/c%3A/Users/demax.000/Documents/GitHub/PIX/.ipynb_checkpoints/Evolution%20of%20PIX-checkpoint.ipynb#X11sZmlsZQ%3D%3D?line=2'>3</a>\u001b[0m \u001b[39mimport\u001b[39;00m \u001b[39mrequests\u001b[39;00m\n\u001b[0;32m      <a href='vscode-notebook-cell:/c%3A/Users/demax.000/Documents/GitHub/PIX/.ipynb_checkpoints/Evolution%20of%20PIX-checkpoint.ipynb#X11sZmlsZQ%3D%3D?line=3'>4</a>\u001b[0m \u001b[39mimport\u001b[39;00m \u001b[39mjson\u001b[39;00m\n\u001b[0;32m      <a href='vscode-notebook-cell:/c%3A/Users/demax.000/Documents/GitHub/PIX/.ipynb_checkpoints/Evolution%20of%20PIX-checkpoint.ipynb#X11sZmlsZQ%3D%3D?line=4'>5</a>\u001b[0m \u001b[39mimport\u001b[39;00m \u001b[39mmatplotlib\u001b[39;00m\u001b[39m.\u001b[39;00m\u001b[39mpyplot\u001b[39;00m \u001b[39mas\u001b[39;00m \u001b[39mplt\u001b[39;00m\n",
      "\u001b[1;31mModuleNotFoundError\u001b[0m: No module named 'requests'"
     ]
    }
   ],
   "source": [
    "import pandas as pd\n",
    "import numpy as np\n",
    "import requests\n",
    "import json\n",
    "import matplotlib.pyplot as plt"
   ]
  },
  {
   "cell_type": "markdown",
   "id": "7f77d8e4",
   "metadata": {},
   "source": [
    "### Connecting with API"
   ]
  },
  {
   "cell_type": "code",
   "execution_count": null,
   "id": "1f2b9ed4",
   "metadata": {},
   "outputs": [],
   "source": [
    "response_API = requests.get('https://olinda.bcb.gov.br/olinda/servico/SPI/versao/v1/odata/PixLiquidadosAtual?%24format=json')\n",
    "\n",
    "#print(response_API.status_code)\n",
    "data = response_API.text\n",
    "parse_json = json.loads(data)\n",
    "\n",
    "parse_json = parse_json['value']\n",
    "\n",
    "df = pd.DataFrame(parse_json)"
   ]
  },
  {
   "cell_type": "markdown",
   "id": "fbf55f1e",
   "metadata": {},
   "source": [
    "# Cleaning and processing"
   ]
  },
  {
   "cell_type": "markdown",
   "id": "10a56356",
   "metadata": {},
   "source": [
    "### Initial Data Exploration:"
   ]
  },
  {
   "cell_type": "code",
   "execution_count": null,
   "id": "1c4e6553",
   "metadata": {},
   "outputs": [
    {
     "data": {
      "text/html": [
       "<div>\n",
       "<style scoped>\n",
       "    .dataframe tbody tr th:only-of-type {\n",
       "        vertical-align: middle;\n",
       "    }\n",
       "\n",
       "    .dataframe tbody tr th {\n",
       "        vertical-align: top;\n",
       "    }\n",
       "\n",
       "    .dataframe thead th {\n",
       "        text-align: right;\n",
       "    }\n",
       "</style>\n",
       "<table border=\"1\" class=\"dataframe\">\n",
       "  <thead>\n",
       "    <tr style=\"text-align: right;\">\n",
       "      <th></th>\n",
       "      <th>Data</th>\n",
       "      <th>Quantidade</th>\n",
       "      <th>Total</th>\n",
       "      <th>Media</th>\n",
       "    </tr>\n",
       "  </thead>\n",
       "  <tbody>\n",
       "    <tr>\n",
       "      <th>0</th>\n",
       "      <td>2021-06-04</td>\n",
       "      <td>24945880</td>\n",
       "      <td>17229599.27</td>\n",
       "      <td>690.68</td>\n",
       "    </tr>\n",
       "    <tr>\n",
       "      <th>1</th>\n",
       "      <td>2021-09-28</td>\n",
       "      <td>28840568</td>\n",
       "      <td>17964083.35</td>\n",
       "      <td>622.88</td>\n",
       "    </tr>\n",
       "    <tr>\n",
       "      <th>2</th>\n",
       "      <td>2022-10-28</td>\n",
       "      <td>75938264</td>\n",
       "      <td>40180577.53</td>\n",
       "      <td>529.12</td>\n",
       "    </tr>\n",
       "    <tr>\n",
       "      <th>3</th>\n",
       "      <td>2022-12-01</td>\n",
       "      <td>93207145</td>\n",
       "      <td>47313669.38</td>\n",
       "      <td>507.62</td>\n",
       "    </tr>\n",
       "    <tr>\n",
       "      <th>4</th>\n",
       "      <td>2022-04-06</td>\n",
       "      <td>59981242</td>\n",
       "      <td>32855707.99</td>\n",
       "      <td>547.77</td>\n",
       "    </tr>\n",
       "  </tbody>\n",
       "</table>\n",
       "</div>"
      ],
      "text/plain": [
       "         Data  Quantidade        Total   Media\n",
       "0  2021-06-04    24945880  17229599.27  690.68\n",
       "1  2021-09-28    28840568  17964083.35  622.88\n",
       "2  2022-10-28    75938264  40180577.53  529.12\n",
       "3  2022-12-01    93207145  47313669.38  507.62\n",
       "4  2022-04-06    59981242  32855707.99  547.77"
      ]
     },
     "execution_count": 18,
     "metadata": {},
     "output_type": "execute_result"
    }
   ],
   "source": [
    "# head\n",
    "df.head()"
   ]
  },
  {
   "cell_type": "code",
   "execution_count": null,
   "id": "22ed4545",
   "metadata": {},
   "outputs": [
    {
     "data": {
      "text/html": [
       "<div>\n",
       "<style scoped>\n",
       "    .dataframe tbody tr th:only-of-type {\n",
       "        vertical-align: middle;\n",
       "    }\n",
       "\n",
       "    .dataframe tbody tr th {\n",
       "        vertical-align: top;\n",
       "    }\n",
       "\n",
       "    .dataframe thead th {\n",
       "        text-align: right;\n",
       "    }\n",
       "</style>\n",
       "<table border=\"1\" class=\"dataframe\">\n",
       "  <thead>\n",
       "    <tr style=\"text-align: right;\">\n",
       "      <th></th>\n",
       "      <th>Quantidade</th>\n",
       "      <th>Total</th>\n",
       "      <th>Media</th>\n",
       "    </tr>\n",
       "  </thead>\n",
       "  <tbody>\n",
       "    <tr>\n",
       "      <th>count</th>\n",
       "      <td>1.072000e+03</td>\n",
       "      <td>1.072000e+03</td>\n",
       "      <td>1072.000000</td>\n",
       "    </tr>\n",
       "    <tr>\n",
       "      <th>mean</th>\n",
       "      <td>5.078755e+07</td>\n",
       "      <td>2.303993e+07</td>\n",
       "      <td>482.987761</td>\n",
       "    </tr>\n",
       "    <tr>\n",
       "      <th>std</th>\n",
       "      <td>3.356657e+07</td>\n",
       "      <td>1.748010e+07</td>\n",
       "      <td>233.133136</td>\n",
       "    </tr>\n",
       "    <tr>\n",
       "      <th>min</th>\n",
       "      <td>2.345000e+03</td>\n",
       "      <td>2.102400e+02</td>\n",
       "      <td>89.650000</td>\n",
       "    </tr>\n",
       "    <tr>\n",
       "      <th>25%</th>\n",
       "      <td>2.320729e+07</td>\n",
       "      <td>7.308502e+06</td>\n",
       "      <td>236.320000</td>\n",
       "    </tr>\n",
       "    <tr>\n",
       "      <th>50%</th>\n",
       "      <td>4.721858e+07</td>\n",
       "      <td>1.911628e+07</td>\n",
       "      <td>515.830000</td>\n",
       "    </tr>\n",
       "    <tr>\n",
       "      <th>75%</th>\n",
       "      <td>7.542265e+07</td>\n",
       "      <td>3.670148e+07</td>\n",
       "      <td>617.000000</td>\n",
       "    </tr>\n",
       "    <tr>\n",
       "      <th>max</th>\n",
       "      <td>1.630081e+08</td>\n",
       "      <td>7.730169e+07</td>\n",
       "      <td>1309.440000</td>\n",
       "    </tr>\n",
       "  </tbody>\n",
       "</table>\n",
       "</div>"
      ],
      "text/plain": [
       "         Quantidade         Total        Media\n",
       "count  1.072000e+03  1.072000e+03  1072.000000\n",
       "mean   5.078755e+07  2.303993e+07   482.987761\n",
       "std    3.356657e+07  1.748010e+07   233.133136\n",
       "min    2.345000e+03  2.102400e+02    89.650000\n",
       "25%    2.320729e+07  7.308502e+06   236.320000\n",
       "50%    4.721858e+07  1.911628e+07   515.830000\n",
       "75%    7.542265e+07  3.670148e+07   617.000000\n",
       "max    1.630081e+08  7.730169e+07  1309.440000"
      ]
     },
     "execution_count": 6,
     "metadata": {},
     "output_type": "execute_result"
    }
   ],
   "source": [
    "# descriptive statistics of the data\n",
    "df.describe()"
   ]
  },
  {
   "cell_type": "code",
   "execution_count": null,
   "id": "771dff06",
   "metadata": {
    "scrolled": true
   },
   "outputs": [
    {
     "name": "stdout",
     "output_type": "stream",
     "text": [
      "<class 'pandas.core.frame.DataFrame'>\n",
      "RangeIndex: 1072 entries, 0 to 1071\n",
      "Data columns (total 4 columns):\n",
      " #   Column      Non-Null Count  Dtype  \n",
      "---  ------      --------------  -----  \n",
      " 0   Data        1072 non-null   object \n",
      " 1   Quantidade  1072 non-null   int64  \n",
      " 2   Total       1072 non-null   float64\n",
      " 3   Media       1072 non-null   float64\n",
      "dtypes: float64(2), int64(1), object(1)\n",
      "memory usage: 33.6+ KB\n"
     ]
    }
   ],
   "source": [
    "# infors about dataset\n",
    "df.info()"
   ]
  },
  {
   "cell_type": "code",
   "execution_count": null,
   "id": "44088e6d",
   "metadata": {},
   "outputs": [
    {
     "name": "stdout",
     "output_type": "stream",
     "text": [
      "The min value of column Data is 2020-11-03 and max is 2023-10-10\n"
     ]
    }
   ],
   "source": [
    "# min and max values\n",
    "col1 = 'Data'\n",
    "col1min = df['Data'].min()\n",
    "col1max = df['Data'].max()\n",
    "print('The min value of column', col1,'is', col1min, 'and max is', col1max)"
   ]
  },
  {
   "cell_type": "markdown",
   "id": "529562ca",
   "metadata": {},
   "source": [
    "### Handle Missing Data:"
   ]
  },
  {
   "cell_type": "code",
   "execution_count": null,
   "id": "fa63fc78",
   "metadata": {},
   "outputs": [
    {
     "data": {
      "text/plain": [
       "Data          0\n",
       "Quantidade    0\n",
       "Total         0\n",
       "Media         0\n",
       "dtype: int64"
      ]
     },
     "execution_count": 9,
     "metadata": {},
     "output_type": "execute_result"
    }
   ],
   "source": [
    "# check missing valus\n",
    "df.isnull().sum()"
   ]
  },
  {
   "cell_type": "markdown",
   "id": "4e19220c",
   "metadata": {},
   "source": [
    "### Data Type and Conversion"
   ]
  },
  {
   "cell_type": "code",
   "execution_count": null,
   "id": "c17f0698",
   "metadata": {},
   "outputs": [
    {
     "data": {
      "text/plain": [
       "Data           object\n",
       "Quantidade      int64\n",
       "Total         float64\n",
       "Media         float64\n",
       "dtype: object"
      ]
     },
     "execution_count": 10,
     "metadata": {},
     "output_type": "execute_result"
    }
   ],
   "source": [
    "# identify types\n",
    "df.dtypes"
   ]
  },
  {
   "cell_type": "code",
   "execution_count": null,
   "id": "f4630d33",
   "metadata": {},
   "outputs": [
    {
     "data": {
      "text/html": [
       "<div>\n",
       "<style scoped>\n",
       "    .dataframe tbody tr th:only-of-type {\n",
       "        vertical-align: middle;\n",
       "    }\n",
       "\n",
       "    .dataframe tbody tr th {\n",
       "        vertical-align: top;\n",
       "    }\n",
       "\n",
       "    .dataframe thead th {\n",
       "        text-align: right;\n",
       "    }\n",
       "</style>\n",
       "<table border=\"1\" class=\"dataframe\">\n",
       "  <thead>\n",
       "    <tr style=\"text-align: right;\">\n",
       "      <th></th>\n",
       "      <th>Data</th>\n",
       "      <th>Quantidade</th>\n",
       "      <th>Total</th>\n",
       "      <th>Media</th>\n",
       "    </tr>\n",
       "  </thead>\n",
       "  <tbody>\n",
       "    <tr>\n",
       "      <th>0</th>\n",
       "      <td>2021-06-04</td>\n",
       "      <td>24945880</td>\n",
       "      <td>17229599.27</td>\n",
       "      <td>690.68</td>\n",
       "    </tr>\n",
       "    <tr>\n",
       "      <th>1</th>\n",
       "      <td>2021-09-28</td>\n",
       "      <td>28840568</td>\n",
       "      <td>17964083.35</td>\n",
       "      <td>622.88</td>\n",
       "    </tr>\n",
       "    <tr>\n",
       "      <th>2</th>\n",
       "      <td>2022-10-28</td>\n",
       "      <td>75938264</td>\n",
       "      <td>40180577.53</td>\n",
       "      <td>529.12</td>\n",
       "    </tr>\n",
       "  </tbody>\n",
       "</table>\n",
       "</div>"
      ],
      "text/plain": [
       "         Data  Quantidade        Total   Media\n",
       "0  2021-06-04    24945880  17229599.27  690.68\n",
       "1  2021-09-28    28840568  17964083.35  622.88\n",
       "2  2022-10-28    75938264  40180577.53  529.12"
      ]
     },
     "execution_count": 23,
     "metadata": {},
     "output_type": "execute_result"
    }
   ],
   "source": [
    "# change type\n",
    "pd.to_numeric(df['Media'])\n",
    "pd.to_numeric(df[ 'Total'])\n",
    "\n",
    "df.head(3)"
   ]
  },
  {
   "cell_type": "markdown",
   "id": "3ffe02eb",
   "metadata": {},
   "source": [
    "### Quality of data"
   ]
  },
  {
   "cell_type": "code",
   "execution_count": null,
   "id": "0db1fff0",
   "metadata": {},
   "outputs": [
    {
     "name": "stdout",
     "output_type": "stream",
     "text": [
      "The quantity of the column Data is 1072 and the unique quantity is 1072\n",
      "The quantity of the column Quantidade is 1072 and the unique quantity is 1072\n",
      "The quantity of the column Total is 1072 and the unique quantity is 1072\n",
      "The quantity of the column Media is 1072 and the unique quantity is 1060\n"
     ]
    }
   ],
   "source": [
    "# duplicates values\n",
    "def analyze_column(df, column_name):\n",
    "    col = df[column_name]\n",
    "    total_count = col.count()\n",
    "    unique_count = col.nunique()\n",
    "    return total_count, unique_count\n",
    "\n",
    "columns_to_analyze = ['Data', 'Quantidade','Total', 'Media']\n",
    "\n",
    "for column_name in columns_to_analyze:\n",
    "    total_count, unique_count = analyze_column(df, column_name)\n",
    "    print(f\"The quantity of the column {column_name} is {total_count} and the unique quantity is {unique_count}\")\n",
    "    "
   ]
  },
  {
   "cell_type": "markdown",
   "id": "1cc1c75e",
   "metadata": {},
   "source": [
    "### Plot Data"
   ]
  },
  {
   "cell_type": "code",
   "execution_count": null,
   "id": "0a0b58ae",
   "metadata": {},
   "outputs": [
    {
     "ename": "NameError",
     "evalue": "name 'plt' is not defined",
     "output_type": "error",
     "traceback": [
      "\u001b[1;31m---------------------------------------------------------------------------\u001b[0m",
      "\u001b[1;31mNameError\u001b[0m                                 Traceback (most recent call last)",
      "\u001b[1;32mc:\\Users\\demax.000\\Documents\\GitHub\\PIX\\.ipynb_checkpoints\\Evolution of PIX-checkpoint.ipynb Cell 20\u001b[0m line \u001b[0;36m5\n\u001b[0;32m      <a href='vscode-notebook-cell:/c%3A/Users/demax.000/Documents/GitHub/PIX/.ipynb_checkpoints/Evolution%20of%20PIX-checkpoint.ipynb#X34sZmlsZQ%3D%3D?line=0'>1</a>\u001b[0m \u001b[39m# plot the data\u001b[39;00m\n\u001b[0;32m      <a href='vscode-notebook-cell:/c%3A/Users/demax.000/Documents/GitHub/PIX/.ipynb_checkpoints/Evolution%20of%20PIX-checkpoint.ipynb#X34sZmlsZQ%3D%3D?line=1'>2</a>\u001b[0m \n\u001b[0;32m      <a href='vscode-notebook-cell:/c%3A/Users/demax.000/Documents/GitHub/PIX/.ipynb_checkpoints/Evolution%20of%20PIX-checkpoint.ipynb#X34sZmlsZQ%3D%3D?line=2'>3</a>\u001b[0m \u001b[39m# Histogram\u001b[39;00m\n\u001b[0;32m      <a href='vscode-notebook-cell:/c%3A/Users/demax.000/Documents/GitHub/PIX/.ipynb_checkpoints/Evolution%20of%20PIX-checkpoint.ipynb#X34sZmlsZQ%3D%3D?line=3'>4</a>\u001b[0m col_hist_1 \u001b[39m=\u001b[39m \u001b[39m'\u001b[39m\u001b[39mQuantidade\u001b[39m\u001b[39m'\u001b[39m\n\u001b[1;32m----> <a href='vscode-notebook-cell:/c%3A/Users/demax.000/Documents/GitHub/PIX/.ipynb_checkpoints/Evolution%20of%20PIX-checkpoint.ipynb#X34sZmlsZQ%3D%3D?line=4'>5</a>\u001b[0m plt\u001b[39m.\u001b[39mhist(df[col_hist_1])\n\u001b[0;32m      <a href='vscode-notebook-cell:/c%3A/Users/demax.000/Documents/GitHub/PIX/.ipynb_checkpoints/Evolution%20of%20PIX-checkpoint.ipynb#X34sZmlsZQ%3D%3D?line=5'>6</a>\u001b[0m plt\u001b[39m.\u001b[39mxlabel(col_hist_1)\n\u001b[0;32m      <a href='vscode-notebook-cell:/c%3A/Users/demax.000/Documents/GitHub/PIX/.ipynb_checkpoints/Evolution%20of%20PIX-checkpoint.ipynb#X34sZmlsZQ%3D%3D?line=6'>7</a>\u001b[0m plt\u001b[39m.\u001b[39mylabel(\u001b[39m'\u001b[39m\u001b[39mFrequency\u001b[39m\u001b[39m'\u001b[39m)\n",
      "\u001b[1;31mNameError\u001b[0m: name 'plt' is not defined"
     ]
    }
   ],
   "source": [
    "# plot the data\n",
    "\n",
    "# Histogram\n",
    "col_hist_1 = 'Quantidade'\n",
    "plt.hist(df[col_hist_1])\n",
    "plt.xlabel(col_hist_1)\n",
    "plt.ylabel('Frequency')\n",
    "title = 'Histogram of ' + col_hist_1\n",
    "plt.title(title)\n",
    "plt.show()\n"
   ]
  },
  {
   "cell_type": "code",
   "execution_count": null,
   "id": "569e9b35",
   "metadata": {},
   "outputs": [],
   "source": [
    "# Perform statistical tests"
   ]
  },
  {
   "cell_type": "markdown",
   "id": "553fac5d",
   "metadata": {},
   "source": [
    "### Libraries"
   ]
  }
 ],
 "metadata": {
  "kernelspec": {
   "display_name": "Python 3 (ipykernel)",
   "language": "python",
   "name": "python3"
  },
  "language_info": {
   "codemirror_mode": {
    "name": "ipython",
    "version": 3
   },
   "file_extension": ".py",
   "mimetype": "text/x-python",
   "name": "python",
   "nbconvert_exporter": "python",
   "pygments_lexer": "ipython3",
   "version": "3.11.4"
  }
 },
 "nbformat": 4,
 "nbformat_minor": 5
}
