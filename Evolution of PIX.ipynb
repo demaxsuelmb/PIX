{
 "cells": [
  {
   "cell_type": "code",
   "execution_count": 1,
   "id": "6bdf7908",
   "metadata": {},
   "outputs": [],
   "source": [
    "import pandas as pd\n",
    "import numpy as np"
   ]
  },
  {
   "cell_type": "code",
   "execution_count": 7,
   "id": "db8e8cfe",
   "metadata": {},
   "outputs": [],
   "source": [
    "urlBase = 'https://olinda.bcb.gov.br/olinda/servico/SPI/versao/v1/odata/PixLiquidadosAtual?%24format=json'"
   ]
  },
  {
   "cell_type": "code",
   "execution_count": 8,
   "id": "23356c54",
   "metadata": {},
   "outputs": [],
   "source": [
    "df = pd.read_json(urlBase)"
   ]
  },
  {
   "cell_type": "code",
   "execution_count": 11,
   "id": "f92f99d7",
   "metadata": {},
   "outputs": [
    {
     "data": {
      "text/plain": [
       "0      {'Data': '2021-06-04', 'Quantidade': 24945880,...\n",
       "1      {'Data': '2021-09-28', 'Quantidade': 28840568,...\n",
       "2      {'Data': '2021-10-05', 'Quantidade': 38660923,...\n",
       "3      {'Data': '2021-02-07', 'Quantidade': 3961858, ...\n",
       "4      {'Data': '2020-12-09', 'Quantidade': 4030272, ...\n",
       "                             ...                        \n",
       "394    {'Data': '2021-08-23', 'Quantidade': 27236546,...\n",
       "395    {'Data': '2021-02-09', 'Quantidade': 10180755,...\n",
       "396    {'Data': '2021-01-19', 'Quantidade': 6374252, ...\n",
       "397    {'Data': '2021-08-11', 'Quantidade': 27981443,...\n",
       "398    {'Data': '2021-03-27', 'Quantidade': 7836423, ...\n",
       "Name: value, Length: 399, dtype: object"
      ]
     },
     "execution_count": 11,
     "metadata": {},
     "output_type": "execute_result"
    }
   ],
   "source": [
    "df['value']"
   ]
  },
  {
   "cell_type": "code",
   "execution_count": null,
   "id": "aacca4ec",
   "metadata": {},
   "outputs": [],
   "source": []
  },
  {
   "cell_type": "code",
   "execution_count": null,
   "id": "91a2fba9",
   "metadata": {},
   "outputs": [],
   "source": []
  }
 ],
 "metadata": {
  "kernelspec": {
   "display_name": "Python 3",
   "language": "python",
   "name": "python3"
  },
  "language_info": {
   "codemirror_mode": {
    "name": "ipython",
    "version": 3
   },
   "file_extension": ".py",
   "mimetype": "text/x-python",
   "name": "python",
   "nbconvert_exporter": "python",
   "pygments_lexer": "ipython3",
   "version": "3.8.8"
  }
 },
 "nbformat": 4,
 "nbformat_minor": 5
}
